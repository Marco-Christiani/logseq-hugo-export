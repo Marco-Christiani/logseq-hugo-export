{
 "cells": [
  {
   "cell_type": "markdown",
   "metadata": {},
   "source": [
    "# Jupyter Notebook with Markdown\n",
    "\n",
    "Text can be **bold**, _italic_, or ~~strikethrough~~. [Links](https://github.com) should be blue with no underlines (unless hovered over).\n",
    "\n",
    "Even LaTex expression work: $\\delta_{\\alpha}$.\n",
    "\n",
    "There should be whitespace between paragraphs. There should be whitespace between paragraphs. There should be whitespace between paragraphs. There should be whitespace between paragraphs.\n",
    "\n",
    "There should be whitespace between paragraphs. There should be whitespace between paragraphs. There should be whitespace between paragraphs. There should be whitespace between paragraphs.\n",
    "\n",
    "> There should be no margin above this first sentence.\n",
    ">\n",
    "> Blockquotes should be a lighter gray with a gray border along the left side.\n",
    ">\n",
    "> There should be no margin below this final sentence.\n",
    "\n",
    "## Header 2\n",
    "\n",
    "This is a normal paragraph following a header. Bacon ipsum dolor sit amet t-bone doner shank drumstick, pork belly porchetta chuck sausage brisket ham hock rump pig. Chuck kielbasa leberkas, pork bresaola ham hock filet mignon cow shoulder short ribs biltong.\n",
    "\n",
    "## Header 2\n",
    "\n",
    "> This is a blockquote following a header. Bacon ipsum dolor sit amet t-bone doner shank drumstick, pork belly porchetta chuck sausage brisket ham hock rump pig. Chuck kielbasa leberkas, pork bresaola ham hock filet mignon cow shoulder short ribs biltong.\n",
    "\n",
    "### Header 3\n",
    "\n",
    "```\n",
    "This is a code block following a header.\n",
    "```\n",
    "\n",
    "#### Header 4\n",
    "\n",
    "* This is an unordered list following a header.\n",
    "* This is an unordered list following a header.\n",
    "* This is an unordered list following a header.\n",
    "\n",
    "##### Header 5\n",
    "\n",
    "1. This is an ordered list following a header.\n",
    "2. This is an ordered list following a header.\n",
    "3. This is an ordered list following a header.\n",
    "\n",
    "###### Header 6\n",
    "\n",
    "| What      | Follows         |\n",
    "|-----------|-----------------|\n",
    "| A table   | A header        |\n",
    "| A table   | A header        |\n",
    "| A table   | A header        |\n",
    "\n",
    "----------------\n",
    "\n",
    "There's a horizontal rule above and below this.\n",
    "\n",
    "----------------\n",
    "\n",
    "Here is an unordered list:\n",
    "\n",
    "* Salt-n-Pepa\n",
    "* Bel Biv DeVoe\n",
    "* Kid 'N Play\n",
    "\n",
    "And an ordered list:\n",
    "\n",
    "1. Michael Jackson\n",
    "2. Michael Bolton\n",
    "3. Michael Bublé\n",
    "\n",
    "And an unordered task list:\n",
    "\n",
    "- [x] Create a sample markdown document\n",
    "- [x] Add task lists to it\n",
    "- [ ] Take a vacation\n",
    "\n",
    "And a \"mixed\" task list:\n",
    "\n",
    "- [ ] Steal underpants\n",
    "- ?\n",
    "- [ ] Profit!\n",
    "\n",
    "And a nested list:\n",
    "\n",
    "* Jackson 5\n",
    "  * Michael\n",
    "  * Tito\n",
    "  * Jackie\n",
    "  * Marlon\n",
    "  * Jermaine\n",
    "* TMNT\n",
    "  * Leonardo\n",
    "  * Michelangelo\n",
    "  * Donatello\n",
    "  * Raphael\n",
    "\n",
    "Definition lists can be used with HTML syntax. Definition terms are bold and italic.\n",
    "\n",
    "<dl>\n",
    "    <dt>Name</dt>\n",
    "    <dd>Godzilla</dd>\n",
    "    <dt>Born</dt>\n",
    "    <dd>1952</dd>\n",
    "    <dt>Birthplace</dt>\n",
    "    <dd>Japan</dd>\n",
    "    <dt>Color</dt>\n",
    "    <dd>Green</dd>\n",
    "</dl>\n",
    "\n",
    "----------------\n",
    "\n",
    "Tables should have bold headings and alternating shaded rows.\n",
    "\n",
    "| Artist            | Album           | Year |\n",
    "|-------------------|-----------------|------|\n",
    "| Michael Jackson   | Thriller        | 1982 |\n",
    "| Prince            | Purple Rain     | 1984 |\n",
    "| Beastie Boys      | License to Ill  | 1986 |\n",
    "\n",
    "If a table is too wide, it should condense down and/or scroll horizontally.\n",
    "\n",
    "| Artist            | Album           | Year | Label       | Awards   | Songs     |\n",
    "|-------------------|-----------------|------|-------------|----------|-----------|\n",
    "| Michael Jackson   | Thriller        | 1982 | Epic Records | Grammy Award for Album of the Year, American Music Award for Favorite Pop/Rock Album, American Music Award for Favorite Soul/R&B Album, Brit Award for Best Selling Album, Grammy Award for Best Engineered Album, Non-Classical | Wanna Be Startin' Somethin', Baby Be Mine, The Girl Is Mine, Thriller, Beat It, Billie Jean, Human Nature, P.Y.T. (Pretty Young Thing), The Lady in My Life |\n",
    "| Prince            | Purple Rain     | 1984 | Warner Brothers Records | Grammy Award for Best Score Soundtrack for Visual Media, American Music Award for Favorite Pop/Rock Album, American Music Award for Favorite Soul/R&B Album, Brit Award for Best Soundtrack/Cast Recording, Grammy Award for Best Rock Performance by a Duo or Group with Vocal | Let's Go Crazy, Take Me With U, The Beautiful Ones, Computer Blue, Darling Nikki, When Doves Cry, I Would Die 4 U, Baby I'm a Star, Purple Rain |\n",
    "| Beastie Boys      | License to Ill  | 1986 | Mercury Records | noawardsbutthistablecelliswide | Rhymin & Stealin, The New Style, She's Crafty, Posse in Effect, Slow Ride, Girls, (You Gotta) Fight for Your Right, No Sleep Till Brooklyn, Paul Revere, Hold It Now, Hit It, Brass Monkey, Slow and Low, Time to Get Ill |\n",
    "\n",
    "----------------\n",
    "\n",
    "Code snippets like `var foo = \"bar\";` can be shown inline.\n",
    "\n",
    "Also, `this should vertically align` ~~`with this`~~ ~~and this~~.\n",
    "\n",
    "Code can also be shown in a block element.\n",
    "\n",
    "```\n",
    "var foo = \"bar\";\n",
    "```\n",
    "\n",
    "```\n",
    "| Language    | Code               |\n",
    "|-------------|--------------------|\n",
    "| Javascript  | `var foo = \"bar\";` |\n",
    "| Ruby        | `foo = \"bar\"`      |\n",
    "```\n",
    "\n",
    "Code can also use syntax highlighting.\n",
    "\n",
    "```javascript\n",
    "var foo = \"bar\";\n",
    "```\n",
    "\n",
    "```\n",
    "Long, single-line code blocks should not wrap. They should horizontally scroll if they are too long. This line should be long enough to demonstrate this.\n",
    "```\n",
    "\n",
    "```javascript\n",
    "var foo = \"The same thing is true for code with syntax highlighting. A single line of code should horizontally scroll if it is really long.\";\n",
    "```\n",
    "\n",
    "```python\n",
    "class CustomMarkdownRendered(IPythonRenderer):\n",
    "    def block_code(self, code, lang):\n",
    "        if lang:\n",
    "            try:\n",
    "                lexer = get_lexer_by_name(lang, stripall=True)\n",
    "            except ClassNotFound:\n",
    "                code = lang + \"\\n\" + code\n",
    "                lang = None\n",
    "                lexer = None\n",
    "\n",
    "        if not lang:\n",
    "            return \"\\n<pre><code>%s</code></pre>\\n\" % mistune.escape(code)\n",
    "\n",
    "        formatter = CodeHtmlFormatter()\n",
    "        return highlight(code, lexer, formatter)\n",
    "```\n",
    "\n",
    "\n",
    "Inline code inside table cells should still be distinguishable.\n",
    "\n",
    "| Language    | Code               |\n",
    "|-------------|--------------------|\n",
    "| Javascript  | `var foo = \"bar\";` |\n",
    "| Ruby        | `foo = \"bar\"`      |\n",
    "\n",
    "----------------\n",
    "\n",
    "Small images should be shown at their actual size.\n",
    "\n",
    "![](http://placekitten.com/g/300/200/)\n",
    "\n",
    "Large images should always scale down and fit in the content container.\n",
    "\n",
    "![](http://placekitten.com/g/1200/800/)\n",
    "\n",
    "This is the final element on the page and there should be no margin below this.\n"
   ]
  },
  {
   "cell_type": "markdown",
   "metadata": {},
   "source": [
    "## Image on the docs\n",
    "\n",
    "If you have an image in mkdocs just add it in markdown, it won't be displayed in the Juptyer IDE but it will work on the mkdocs site.\n",
    "\n",
    "![Screenshot](/img/jupyter.png)"
   ]
  },
  {
   "cell_type": "markdown",
   "metadata": {},
   "source": [
    "## mkdocs-material things\n",
    "\n",
    "<div class=\"admonition note\">\n",
    "    <p class=\"admonition-title\">Note</p>\n",
    "    <p>\n",
    "        If two distributions are similar, then their entropies are similar, implies the KL divergence with respect to two distributions will be smaller. And vica versa. In Variational Inference, the whole idea is to <strong>minimize</strong> KL divergence so that our approximating distribution $q(\\theta)$ can be made similar to $p(\\theta|D)$.\n",
    "    </p>\n",
    "</div>"
   ]
  },
  {
   "cell_type": "code",
   "execution_count": 1,
   "metadata": {},
   "outputs": [
    {
     "data": {
      "text/plain": [
       "'1.21.5'"
      ]
     },
     "execution_count": 1,
     "metadata": {},
     "output_type": "execute_result"
    }
   ],
   "source": [
    "import numpy as np\n",
    "np.__version__"
   ]
  },
  {
   "cell_type": "code",
   "execution_count": 2,
   "metadata": {},
   "outputs": [
    {
     "name": "stdout",
     "output_type": "stream",
     "text": [
      "<module 'numpy.version' from '/home/marco/anaconda3/envs/pairsml/lib/python3.9/site-packages/numpy/version.py'>\n"
     ]
    }
   ],
   "source": [
    "print(np.version)"
   ]
  },
  {
   "cell_type": "code",
   "execution_count": 3,
   "metadata": {},
   "outputs": [],
   "source": [
    "from rich import print"
   ]
  },
  {
   "cell_type": "code",
   "execution_count": 7,
   "metadata": {},
   "outputs": [
    {
     "data": {
      "text/html": [
       "<pre style=\"white-space:pre;overflow-x:auto;line-height:normal;font-family:Menlo,'DejaVu Sans Mono',consolas,'Courier New',monospace\"><span style=\"font-weight: bold\">&lt;</span><span style=\"color: #ff00ff; text-decoration-color: #ff00ff; font-weight: bold\">module</span><span style=\"color: #000000; text-decoration-color: #000000\"> </span><span style=\"color: #008000; text-decoration-color: #008000\">'numpy.version'</span><span style=\"color: #000000; text-decoration-color: #000000\"> from </span>\n",
       "<span style=\"color: #008000; text-decoration-color: #008000\">'/home/marco/anaconda3/envs/pairsml/lib/python3.9/site-packages/numpy/version.py'</span><span style=\"font-weight: bold\">&gt;</span>\n",
       "</pre>\n"
      ],
      "text/plain": [
       "\u001b[1m<\u001b[0m\u001b[1;95mmodule\u001b[0m\u001b[39m \u001b[0m\u001b[32m'numpy.version'\u001b[0m\u001b[39m from \u001b[0m\n",
       "\u001b[32m'/home/marco/anaconda3/envs/pairsml/lib/python3.9/site-packages/numpy/version.py'\u001b[0m\u001b[1m>\u001b[0m\n"
      ]
     },
     "metadata": {},
     "output_type": "display_data"
    }
   ],
   "source": [
    "print(np.version)"
   ]
  },
  {
   "cell_type": "code",
   "execution_count": 12,
   "metadata": {},
   "outputs": [
    {
     "data": {
      "text/plain": [
       "array([[0.39950979, 0.5998626 ],\n",
       "       [0.57093578, 0.1773317 ],\n",
       "       [0.70035134, 0.47059701]])"
      ]
     },
     "execution_count": 12,
     "metadata": {},
     "output_type": "execute_result"
    }
   ],
   "source": [
    "x = np.random.random((3,2))\n",
    "x"
   ]
  },
  {
   "cell_type": "code",
   "execution_count": 13,
   "metadata": {},
   "outputs": [
    {
     "data": {
      "text/html": [
       "<pre style=\"white-space:pre;overflow-x:auto;line-height:normal;font-family:Menlo,'DejaVu Sans Mono',consolas,'Courier New',monospace\"><span style=\"font-weight: bold\">[[</span><span style=\"color: #008080; text-decoration-color: #008080; font-weight: bold\">0.39950979</span> <span style=\"color: #008080; text-decoration-color: #008080; font-weight: bold\">0.5998626</span> <span style=\"font-weight: bold\">]</span>\n",
       " <span style=\"font-weight: bold\">[</span><span style=\"color: #008080; text-decoration-color: #008080; font-weight: bold\">0.57093578</span> <span style=\"color: #008080; text-decoration-color: #008080; font-weight: bold\">0.1773317</span> <span style=\"font-weight: bold\">]</span>\n",
       " <span style=\"font-weight: bold\">[</span><span style=\"color: #008080; text-decoration-color: #008080; font-weight: bold\">0.70035134</span> <span style=\"color: #008080; text-decoration-color: #008080; font-weight: bold\">0.47059701</span><span style=\"font-weight: bold\">]]</span>\n",
       "</pre>\n"
      ],
      "text/plain": [
       "\u001b[1m[\u001b[0m\u001b[1m[\u001b[0m\u001b[1;36m0.39950979\u001b[0m \u001b[1;36m0.5998626\u001b[0m \u001b[1m]\u001b[0m\n",
       " \u001b[1m[\u001b[0m\u001b[1;36m0.57093578\u001b[0m \u001b[1;36m0.1773317\u001b[0m \u001b[1m]\u001b[0m\n",
       " \u001b[1m[\u001b[0m\u001b[1;36m0.70035134\u001b[0m \u001b[1;36m0.47059701\u001b[0m\u001b[1m]\u001b[0m\u001b[1m]\u001b[0m\n"
      ]
     },
     "metadata": {},
     "output_type": "display_data"
    }
   ],
   "source": [
    "print(x)"
   ]
  },
  {
   "cell_type": "code",
   "execution_count": null,
   "metadata": {},
   "outputs": [],
   "source": []
  }
 ],
 "metadata": {
  "kernelspec": {
   "display_name": "Python 3.9.12 ('pairsml')",
   "language": "python",
   "name": "python3"
  },
  "language_info": {
   "codemirror_mode": {
    "name": "ipython",
    "version": 3
   },
   "file_extension": ".py",
   "mimetype": "text/x-python",
   "name": "python",
   "nbconvert_exporter": "python",
   "pygments_lexer": "ipython3",
   "version": "3.9.12"
  },
  "vscode": {
   "interpreter": {
    "hash": "77e0e225fe60eabf82245f3eaa48220ba7eb64cd8b48e8998de75957a45d69f9"
   }
  }
 },
 "nbformat": 4,
 "nbformat_minor": 4
}
